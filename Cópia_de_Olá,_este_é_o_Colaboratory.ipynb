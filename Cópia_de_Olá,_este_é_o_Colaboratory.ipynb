{
  "cells": [
    {
      "cell_type": "markdown",
      "source": [
        "Faça um programa que avalie um aplicativo"
      ],
      "metadata": {
        "id": "FZzh8R2acA1w"
      }
    },
    {
      "cell_type": "code",
      "source": [
        "aplicativo = input(\"DIGITE O NOME DO APLICATIVO \")\n",
        "avaliacao = int(input(\"deixa de 1 a 5 estrelas: \"))\n",
        "if avaliacao < 1 or avaliacao <= 5:\n",
        " print(\"Obrigado pelo Feedback\")\n",
        "else:\n",
        "   print(input(\"deixa de 1 a 5 estrelas: \"))\n",
        "   print(\"Obrigado pelo Feedback\")"
      ],
      "metadata": {
        "id": "DahWcdDFYK5h"
      },
      "execution_count": null,
      "outputs": []
    },
    {
      "cell_type": "markdown",
      "source": [
        "Faça um programa que cadraste apenas usuários maiores de idade:"
      ],
      "metadata": {
        "id": "3mLETVbVcHgU"
      }
    },
    {
      "cell_type": "code",
      "source": [
        "print(\"Bem-vindo ao programa de cadastro!\")\n",
        "print(\"Por favor, insira as seguintes informações:\")\n",
        "\n",
        "\n",
        "nome = input(\"Digite seu nome: \")\n",
        "idade = int(input(\"Digite sua idade: \"))\n",
        "email = input(\"Digite seu e-mail: \")\n",
        "if idade >= 18:\n",
        "  print(\"Cadastro realizado com sucesso\")\n",
        "else:\n",
        "  print(\"Apenas pessoas com maior idade podem se cadrastar!\")"
      ],
      "metadata": {
        "id": "VWhuVmnPZKFg"
      },
      "execution_count": null,
      "outputs": []
    },
    {
      "cell_type": "markdown",
      "source": [
        "Faça um programa que simule uma lista de compras"
      ],
      "metadata": {
        "id": "gzHXMm05f5_T"
      }
    },
    {
      "cell_type": "code",
      "source": [
        "print(\"coloque seus itens no carrinho de compras:\")\n",
        "listadecompras = 0\n",
        "for i in range(10):\n",
        " item = input(f\"Item {i+1}   \")\n",
        "print(\"Itens adicionados ao carrinho\")"
      ],
      "metadata": {
        "id": "D8BYivUhg2_-"
      },
      "execution_count": null,
      "outputs": []
    },
    {
      "cell_type": "markdown",
      "source": [
        "Faça um programa que simule a organização de um aniversário infantil"
      ],
      "metadata": {
        "id": "Zag-yh0ImWwQ"
      }
    },
    {
      "cell_type": "code",
      "source": [
        "convidados = int(input(\"número de convidados: \"))\n",
        "listaconvidados = []\n",
        "for i in range(1, convidados + 1):\n",
        "  nome = input(f\"Digite o nome do convidado  {i}: \")\n",
        "  idade = int(input(f\"Idade do convidado  {i}:  \"))\n",
        "listaconvidados.append({\"Nome\": nome, \"Idade\": idade})\n",
        "print(\"n/Lista de Convidados: \")\n",
        "for convidado in listaconvidados:\n",
        "  print(f\"Nome: {convidado['Nome']}, Idade: {convidado ['Idade']}\")\n"
      ],
      "metadata": {
        "id": "UQYMZ-iu4TBZ"
      },
      "execution_count": null,
      "outputs": []
    }
  ],
  "metadata": {
    "colab": {
      "provenance": []
    },
    "kernelspec": {
      "display_name": "Python 3",
      "name": "python3"
    }
  },
  "nbformat": 4,
  "nbformat_minor": 0
}